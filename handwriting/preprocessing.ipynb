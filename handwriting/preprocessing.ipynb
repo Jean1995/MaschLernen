{
 "cells": [
  {
   "cell_type": "code",
   "execution_count": 2,
   "metadata": {},
   "outputs": [],
   "source": [
    "# useful functions to remember\n",
    "\n",
    "\n",
    "#image = color.rgb2gray(mpimg.imread('data/101_150/0101_1.jpg')) # load image and convert to grayscale\n",
    "\n",
    "#image = crop_image(image, tol=0.9)\n",
    "\n",
    "#rot_im = ndimage.rotate(image, 60) # rotate image\n",
    "#plt.imshow(image, cmap='gray') # show image in grayscale\n",
    "\n",
    "#mpimg.imsave('foo.png', image, cmap='gray') # save image to file in graysacle\n",
    "\n"
   ]
  },
  {
   "cell_type": "code",
   "execution_count": 2,
   "metadata": {},
   "outputs": [],
   "source": [
    "import numpy as np\n",
    "import cv2\n",
    "%matplotlib inline\n",
    "\n",
    "from skimage import color\n",
    "from skimage import io\n",
    "\n",
    "from scipy import ndimage\n",
    "\n",
    "import matplotlib.pyplot as plt\n",
    "import matplotlib.image as mpimg\n",
    "\n",
    "from PIL import Image\n"
   ]
  },
  {
   "cell_type": "code",
   "execution_count": 4,
   "metadata": {},
   "outputs": [],
   "source": [
    "# Look in what columns/rows all pixels are above 0.9. Remove those lines because we dont need them\n",
    "\n",
    "def crop_image(img,tol=0.9):\n",
    "    # img is image data\n",
    "    # tol  is tolerance\n",
    "    mask = img<tol\n",
    "    return img[np.ix_(mask.any(1),mask.any(0))]"
   ]
  },
  {
   "cell_type": "code",
   "execution_count": 5,
   "metadata": {},
   "outputs": [],
   "source": [
    "# TURNING IMAGES\n",
    "\n",
    "def prepare_image(datapath, rot_angle, resize=1):\n",
    "    image = color.rgb2gray(mpimg.imread(datapath)) # load image and convert to grayscale\n",
    "    height, width = image.shape # get size of image\n",
    "    image = cv2.resize(image, dsize=(int(width*resize), int(height*resize)), interpolation=cv2.INTER_CUBIC) # rescale\n",
    "    image = crop_image(image, tol=0.9) # crop white stuff   \n",
    "    image = ndimage.rotate(image, rot_angle, cval=1) # rotate image\n",
    "    return image\n",
    "\n",
    "#img = prepare_image('data/101_150/0102_1.jpg', 0, 0.3)\n",
    "#print(img.shape)\n",
    "\n",
    "\n",
    "#plt.imshow(img, cmap='gray') # show image in grayscale\n",
    "\n"
   ]
  },
  {
   "cell_type": "code",
   "execution_count": 7,
   "metadata": {},
   "outputs": [
    {
     "name": "stdout",
     "output_type": "stream",
     "text": [
      "1899\r"
     ]
    }
   ],
   "source": [
    "from os import listdir\n",
    "from os.path import isfile, join\n",
    "import random\n",
    "\n",
    "onlyfiles = [f for f in listdir('data/all_data/') if isfile(join('data/all_data/', f))] # get list of datanames in folder\n",
    "\n",
    "counter = 0 # count prepared files, use those as new dataname\n",
    "\n",
    "random.seed(24601) # seed for reproducibility\n",
    "\n",
    "angle_list = list()\n",
    "\n",
    "for dataname in onlyfiles:\n",
    "    print(counter, end=\"\\r\")\n",
    "    random_angle = random.randint(0, 360) # turn by a random angle (a cute angel != a cute angle)\n",
    "    angle_list.append(random_angle)\n",
    "    counter = counter+1\n",
    "    path = 'data/all_data/'+dataname\n",
    "    mpimg.imsave('data_prepared/'+str(counter), prepare_image(path,random_angle, 0.3), cmap='gray') # save image to file in graysacle\n",
    "\n",
    "np.savetxt('data_prepared/angle_list.txt', angle_list, delimiter=',')"
   ]
  }
 ],
 "metadata": {
  "kernelspec": {
   "display_name": "Python 3",
   "language": "python",
   "name": "python3"
  },
  "language_info": {
   "codemirror_mode": {
    "name": "ipython",
    "version": 3
   },
   "file_extension": ".py",
   "mimetype": "text/x-python",
   "name": "python",
   "nbconvert_exporter": "python",
   "pygments_lexer": "ipython3",
   "version": "3.6.5"
  }
 },
 "nbformat": 4,
 "nbformat_minor": 2
}
