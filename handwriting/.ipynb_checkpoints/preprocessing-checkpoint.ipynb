{
 "cells": [
  {
   "cell_type": "code",
   "execution_count": 2,
   "metadata": {},
   "outputs": [],
   "source": [
    "# useful functions to remember\n",
    "\n",
    "\n",
    "#image = color.rgb2gray(mpimg.imread('data/101_150/0101_1.jpg')) # load image and convert to grayscale\n",
    "\n",
    "#image = crop_image(image, tol=0.9)\n",
    "\n",
    "#rot_im = ndimage.rotate(image, 60) # rotate image\n",
    "#plt.imshow(image, cmap='gray') # show image in grayscale\n",
    "\n",
    "#mpimg.imsave('foo.png', image, cmap='gray') # save image to file in graysacle\n",
    "\n"
   ]
  },
  {
   "cell_type": "code",
   "execution_count": 3,
   "metadata": {},
   "outputs": [],
   "source": [
    "import numpy as np\n",
    "import cv2\n",
    "%matplotlib inline\n",
    "\n",
    "from skimage import color\n",
    "from skimage import io\n",
    "\n",
    "from scipy import ndimage\n",
    "\n",
    "import matplotlib.pyplot as plt\n",
    "import matplotlib.image as mpimg\n",
    "\n",
    "from PIL import Image\n"
   ]
  },
  {
   "cell_type": "code",
   "execution_count": 4,
   "metadata": {},
   "outputs": [],
   "source": [
    "# Look in what columns/rows all pixels are above 0.9. Remove those lines because we dont need them\n",
    "\n",
    "def crop_image(img,tol=0.9):\n",
    "    # img is image data\n",
    "    # tol  is tolerance\n",
    "    mask = img<tol\n",
    "    return img[np.ix_(mask.any(1),mask.any(0))]"
   ]
  },
  {
   "cell_type": "code",
   "execution_count": 5,
   "metadata": {},
   "outputs": [],
   "source": [
    "# TURNING IMAGES\n",
    "\n",
    "def prepare_image(datapath, rot_angle, resize=1):\n",
    "    image = color.rgb2gray(mpimg.imread(datapath)) # load image and convert to grayscale\n",
    "    height, width = image.shape # get size of image\n",
    "    image = cv2.resize(image, dsize=(int(width*resize), int(height*resize)), interpolation=cv2.INTER_CUBIC) # rescale\n",
    "    image = crop_image(image, tol=0.9) # crop white stuff   \n",
    "    image = ndimage.rotate(image, rot_angle, cval=1) # rotate image\n",
    "    return image\n",
    "\n",
    "#img = prepare_image('data/101_150/0102_1.jpg', 0, 0.3)\n",
    "#print(img.shape)\n",
    "\n",
    "\n",
    "#plt.imshow(img, cmap='gray') # show image in grayscale\n",
    "\n"
   ]
  },
  {
   "cell_type": "code",
   "execution_count": 6,
   "metadata": {},
   "outputs": [],
   "source": [
    "datalist1 = np.genfromtxt('test.csv', delimiter=',', unpack=True, skip_header=1, dtype=(np.int32, np.int32, \"|S10\"))\n",
    "datalist2 = np.genfromtxt('train.csv', delimiter=',', unpack=True, skip_header=1, dtype=(np.int32, np.int32, \"|S10\"))\n",
    "datalist = np.append(datalist1, datalist2)"
   ]
  },
  {
   "cell_type": "code",
   "execution_count": 17,
   "metadata": {},
   "outputs": [
    {
     "name": "stdout",
     "output_type": "stream",
     "text": [
      "1899\r"
     ]
    }
   ],
   "source": [
    "from os import listdir\n",
    "from os.path import isfile, join\n",
    "import random\n",
    "\n",
    "#onlyfiles = [f for f in listdir('data/all_data/') if isfile(join('data/all_data/', f))] # get list of datanames in folder\n",
    "\n",
    "counter_ges = 0 # count prepared files, use those as new dataname\n",
    "counter_eng = 0\n",
    "counter_ara = 0\n",
    "random.seed(24601) # seed for reproducibility\n",
    "\n",
    "angle_list_eng = list()\n",
    "angle_list_arab = list()\n",
    "\n",
    "for metadata in datalist:\n",
    "    print(counter_ges, end=\"\\r\")\n",
    "    dataname = str(metadata[0]).zfill(4) + '_' + str(metadata[1]) + '.jpg'\n",
    "    random_angle = random.randint(0, 360) # turn by a random angle (a cute angel != a cute angle)\n",
    "    angle_list.append(random_angle)\n",
    "    counter_ges = counter_ges+1\n",
    "    path = 'data/all_data/'+dataname\n",
    "    if metadata[2] == b'Arabic':      \n",
    "        mpimg.imsave('data_prepared_arabic/'+str(counter_ara), prepare_image(path,random_angle, 0.3), cmap='gray') # save image to file in graysacle\n",
    "        counter_ara = counter_ara+1\n",
    "    elif metadata[2] == b'English':\n",
    "        mpimg.imsave('data_prepared_english/'+str(counter_eng), prepare_image(path,random_angle, 0.3), cmap='gray') # save image to file in graysacle\n",
    "        counter_eng = counter_eng+1\n",
    "    else:\n",
    "        assert False, \"Error: Language is neither English nor Arabic\"\n",
    "np.savetxt('data_prepared/angle_list.txt', angle_list, delimiter=',')"
   ]
  }
 ],
 "metadata": {
  "kernelspec": {
   "display_name": "Python 3",
   "language": "python",
   "name": "python3"
  },
  "language_info": {
   "codemirror_mode": {
    "name": "ipython",
    "version": 3
   },
   "file_extension": ".py",
   "mimetype": "text/x-python",
   "name": "python",
   "nbconvert_exporter": "python",
   "pygments_lexer": "ipython3",
   "version": "3.6.5"
  }
 },
 "nbformat": 4,
 "nbformat_minor": 2
}
